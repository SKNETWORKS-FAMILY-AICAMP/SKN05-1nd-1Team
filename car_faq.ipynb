{
 "cells": [
  {
   "cell_type": "markdown",
   "id": "2f01dcfb",
   "metadata": {},
   "source": [
    "# FAQ 크롤링"
   ]
  },
  {
   "cell_type": "code",
   "execution_count": null,
   "id": "71708811",
   "metadata": {},
   "outputs": [],
   "source": [
    "import urllib.request\n",
    "from sqlalchemy import create_engine\n",
    "from bs4 import BeautifulSoup\n",
    "from urllib.request import urlopen\n",
    "import pandas as pd\n",
    "from selenium import webdriver\n",
    "from selenium.webdriver.common.by import By\n",
    "import time\n",
    "from tqdm import tqdm\n",
    "import re"
   ]
  },
  {
   "cell_type": "markdown",
   "id": "53f3e5ba",
   "metadata": {},
   "source": [
    "### 1. 현대"
   ]
  },
  {
   "cell_type": "code",
   "execution_count": 3,
   "id": "dac0b61a-2888-44c9-91b2-a0586a8d474e",
   "metadata": {},
   "outputs": [],
   "source": [
    "url = 'https://www.hyundai.com/kr/ko/e/customer/center/faq'\n",
    "\n",
    "# 브라우저 열기\n",
    "wd = webdriver.Chrome()\n",
    "\n",
    "# 웹페이지 열기\n",
    "wd.get(url) \n",
    "html = wd.page_source  # 페이지 정보를 가지고 있음  html정보\n",
    "soup = BeautifulSoup(html, 'html.parser') # html 정보를 파싱"
   ]
  },
  {
   "cell_type": "code",
   "execution_count": 5,
   "id": "524e699a-01d0-4bc0-b7fa-eae7e86c85cf",
   "metadata": {},
   "outputs": [
    {
     "name": "stderr",
     "output_type": "stream",
     "text": [
      " 73%|███████▎  | 8/11 [04:05<01:26, 28.86s/it]"
     ]
    },
    {
     "name": "stdout",
     "output_type": "stream",
     "text": [
      "<selenium.webdriver.remote.webelement.WebElement (session=\"ec6cb92a231ece7c524a651b2659fd57\", element=\"f.614318BE68B60ACBDAB6EAD87A828822.d.F42116C316ABE2C66FE259F29E2A45FB.e.34\")> 의 8 번째 오류\n",
      "<selenium.webdriver.remote.webelement.WebElement (session=\"ec6cb92a231ece7c524a651b2659fd57\", element=\"f.614318BE68B60ACBDAB6EAD87A828822.d.F42116C316ABE2C66FE259F29E2A45FB.e.34\")> 의 9 번째 오류\n",
      "<selenium.webdriver.remote.webelement.WebElement (session=\"ec6cb92a231ece7c524a651b2659fd57\", element=\"f.614318BE68B60ACBDAB6EAD87A828822.d.F42116C316ABE2C66FE259F29E2A45FB.e.34\")> 의 10 번째 오류\n"
     ]
    },
    {
     "name": "stderr",
     "output_type": "stream",
     "text": [
      " 82%|████████▏ | 9/11 [04:09<00:42, 21.17s/it]"
     ]
    },
    {
     "name": "stdout",
     "output_type": "stream",
     "text": [
      "<selenium.webdriver.remote.webelement.WebElement (session=\"ec6cb92a231ece7c524a651b2659fd57\", element=\"f.614318BE68B60ACBDAB6EAD87A828822.d.F42116C316ABE2C66FE259F29E2A45FB.e.35\")> 의 2 번째 오류\n",
      "<selenium.webdriver.remote.webelement.WebElement (session=\"ec6cb92a231ece7c524a651b2659fd57\", element=\"f.614318BE68B60ACBDAB6EAD87A828822.d.F42116C316ABE2C66FE259F29E2A45FB.e.35\")> 의 3 번째 오류\n",
      "<selenium.webdriver.remote.webelement.WebElement (session=\"ec6cb92a231ece7c524a651b2659fd57\", element=\"f.614318BE68B60ACBDAB6EAD87A828822.d.F42116C316ABE2C66FE259F29E2A45FB.e.35\")> 의 4 번째 오류\n",
      "<selenium.webdriver.remote.webelement.WebElement (session=\"ec6cb92a231ece7c524a651b2659fd57\", element=\"f.614318BE68B60ACBDAB6EAD87A828822.d.F42116C316ABE2C66FE259F29E2A45FB.e.35\")> 의 5 번째 오류\n",
      "<selenium.webdriver.remote.webelement.WebElement (session=\"ec6cb92a231ece7c524a651b2659fd57\", element=\"f.614318BE68B60ACBDAB6EAD87A828822.d.F42116C316ABE2C66FE259F29E2A45FB.e.35\")> 의 6 번째 오류\n",
      "<selenium.webdriver.remote.webelement.WebElement (session=\"ec6cb92a231ece7c524a651b2659fd57\", element=\"f.614318BE68B60ACBDAB6EAD87A828822.d.F42116C316ABE2C66FE259F29E2A45FB.e.35\")> 의 7 번째 오류\n",
      "<selenium.webdriver.remote.webelement.WebElement (session=\"ec6cb92a231ece7c524a651b2659fd57\", element=\"f.614318BE68B60ACBDAB6EAD87A828822.d.F42116C316ABE2C66FE259F29E2A45FB.e.35\")> 의 8 번째 오류\n",
      "<selenium.webdriver.remote.webelement.WebElement (session=\"ec6cb92a231ece7c524a651b2659fd57\", element=\"f.614318BE68B60ACBDAB6EAD87A828822.d.F42116C316ABE2C66FE259F29E2A45FB.e.35\")> 의 9 번째 오류\n",
      "<selenium.webdriver.remote.webelement.WebElement (session=\"ec6cb92a231ece7c524a651b2659fd57\", element=\"f.614318BE68B60ACBDAB6EAD87A828822.d.F42116C316ABE2C66FE259F29E2A45FB.e.35\")> 의 10 번째 오류\n"
     ]
    },
    {
     "name": "stderr",
     "output_type": "stream",
     "text": [
      " 91%|█████████ | 10/11 [04:13<00:15, 15.95s/it]"
     ]
    },
    {
     "name": "stdout",
     "output_type": "stream",
     "text": [
      "<selenium.webdriver.remote.webelement.WebElement (session=\"ec6cb92a231ece7c524a651b2659fd57\", element=\"f.614318BE68B60ACBDAB6EAD87A828822.d.F42116C316ABE2C66FE259F29E2A45FB.e.36\")> 의 1 번째 오류\n",
      "<selenium.webdriver.remote.webelement.WebElement (session=\"ec6cb92a231ece7c524a651b2659fd57\", element=\"f.614318BE68B60ACBDAB6EAD87A828822.d.F42116C316ABE2C66FE259F29E2A45FB.e.36\")> 의 2 번째 오류\n",
      "<selenium.webdriver.remote.webelement.WebElement (session=\"ec6cb92a231ece7c524a651b2659fd57\", element=\"f.614318BE68B60ACBDAB6EAD87A828822.d.F42116C316ABE2C66FE259F29E2A45FB.e.36\")> 의 3 번째 오류\n",
      "<selenium.webdriver.remote.webelement.WebElement (session=\"ec6cb92a231ece7c524a651b2659fd57\", element=\"f.614318BE68B60ACBDAB6EAD87A828822.d.F42116C316ABE2C66FE259F29E2A45FB.e.36\")> 의 4 번째 오류\n",
      "<selenium.webdriver.remote.webelement.WebElement (session=\"ec6cb92a231ece7c524a651b2659fd57\", element=\"f.614318BE68B60ACBDAB6EAD87A828822.d.F42116C316ABE2C66FE259F29E2A45FB.e.36\")> 의 5 번째 오류\n",
      "<selenium.webdriver.remote.webelement.WebElement (session=\"ec6cb92a231ece7c524a651b2659fd57\", element=\"f.614318BE68B60ACBDAB6EAD87A828822.d.F42116C316ABE2C66FE259F29E2A45FB.e.36\")> 의 6 번째 오류\n",
      "<selenium.webdriver.remote.webelement.WebElement (session=\"ec6cb92a231ece7c524a651b2659fd57\", element=\"f.614318BE68B60ACBDAB6EAD87A828822.d.F42116C316ABE2C66FE259F29E2A45FB.e.36\")> 의 7 번째 오류\n",
      "<selenium.webdriver.remote.webelement.WebElement (session=\"ec6cb92a231ece7c524a651b2659fd57\", element=\"f.614318BE68B60ACBDAB6EAD87A828822.d.F42116C316ABE2C66FE259F29E2A45FB.e.36\")> 의 8 번째 오류\n",
      "<selenium.webdriver.remote.webelement.WebElement (session=\"ec6cb92a231ece7c524a651b2659fd57\", element=\"f.614318BE68B60ACBDAB6EAD87A828822.d.F42116C316ABE2C66FE259F29E2A45FB.e.36\")> 의 9 번째 오류\n",
      "<selenium.webdriver.remote.webelement.WebElement (session=\"ec6cb92a231ece7c524a651b2659fd57\", element=\"f.614318BE68B60ACBDAB6EAD87A828822.d.F42116C316ABE2C66FE259F29E2A45FB.e.36\")> 의 10 번째 오류\n"
     ]
    },
    {
     "name": "stderr",
     "output_type": "stream",
     "text": [
      "100%|██████████| 11/11 [04:18<00:00, 23.48s/it]"
     ]
    },
    {
     "name": "stdout",
     "output_type": "stream",
     "text": [
      "<selenium.webdriver.remote.webelement.WebElement (session=\"ec6cb92a231ece7c524a651b2659fd57\", element=\"f.614318BE68B60ACBDAB6EAD87A828822.d.F42116C316ABE2C66FE259F29E2A45FB.e.37\")> 의 2 번째 오류\n",
      "<selenium.webdriver.remote.webelement.WebElement (session=\"ec6cb92a231ece7c524a651b2659fd57\", element=\"f.614318BE68B60ACBDAB6EAD87A828822.d.F42116C316ABE2C66FE259F29E2A45FB.e.37\")> 의 3 번째 오류\n",
      "<selenium.webdriver.remote.webelement.WebElement (session=\"ec6cb92a231ece7c524a651b2659fd57\", element=\"f.614318BE68B60ACBDAB6EAD87A828822.d.F42116C316ABE2C66FE259F29E2A45FB.e.37\")> 의 4 번째 오류\n",
      "<selenium.webdriver.remote.webelement.WebElement (session=\"ec6cb92a231ece7c524a651b2659fd57\", element=\"f.614318BE68B60ACBDAB6EAD87A828822.d.F42116C316ABE2C66FE259F29E2A45FB.e.37\")> 의 5 번째 오류\n",
      "<selenium.webdriver.remote.webelement.WebElement (session=\"ec6cb92a231ece7c524a651b2659fd57\", element=\"f.614318BE68B60ACBDAB6EAD87A828822.d.F42116C316ABE2C66FE259F29E2A45FB.e.37\")> 의 6 번째 오류\n",
      "<selenium.webdriver.remote.webelement.WebElement (session=\"ec6cb92a231ece7c524a651b2659fd57\", element=\"f.614318BE68B60ACBDAB6EAD87A828822.d.F42116C316ABE2C66FE259F29E2A45FB.e.37\")> 의 7 번째 오류\n",
      "<selenium.webdriver.remote.webelement.WebElement (session=\"ec6cb92a231ece7c524a651b2659fd57\", element=\"f.614318BE68B60ACBDAB6EAD87A828822.d.F42116C316ABE2C66FE259F29E2A45FB.e.37\")> 의 8 번째 오류\n",
      "<selenium.webdriver.remote.webelement.WebElement (session=\"ec6cb92a231ece7c524a651b2659fd57\", element=\"f.614318BE68B60ACBDAB6EAD87A828822.d.F42116C316ABE2C66FE259F29E2A45FB.e.37\")> 의 9 번째 오류\n",
      "<selenium.webdriver.remote.webelement.WebElement (session=\"ec6cb92a231ece7c524a651b2659fd57\", element=\"f.614318BE68B60ACBDAB6EAD87A828822.d.F42116C316ABE2C66FE259F29E2A45FB.e.37\")> 의 10 번째 오류\n"
     ]
    },
    {
     "name": "stderr",
     "output_type": "stream",
     "text": [
      "\n"
     ]
    }
   ],
   "source": [
    "# 햔대 자동차 수정본\n",
    "result = []\n",
    "title = ''\n",
    "content = ''\n",
    "\n",
    "html = wd.page_source\n",
    "soup = BeautifulSoup(html, 'html.parser') # html 정보를 파싱\n",
    "\n",
    "\n",
    "buttons = wd.find_elements(By.CSS_SELECTOR, 'ul.tab-menu__icon-wrapper li button')\n",
    "\n",
    "for button in tqdm(buttons):\n",
    "    wd.execute_script(\"arguments[0].click();\", button)\n",
    "    time.sleep(1)\n",
    "    # wd.find_element(By.XPATH,f'//*[@id=\"app\"]/div[3]/section/div[2]/div/div[2]/section/div/div[3]/div[1]/div[2]/button')\n",
    "    html = wd.page_source\n",
    "    soup = BeautifulSoup(html, 'html.parser') # html 정보를 파싱\n",
    "    \n",
    "    for i in range(1,11): \n",
    "        try:\n",
    "            dropdown = wd.find_element(By.XPATH,f'//*[@id=\"app\"]/div[3]/section/div[2]/div/div[2]/section/div/div[3]/div[1]/div[{i}]/button')\n",
    "            # wd.execute_script(\"arguments[0].scrollIntoView();\", dropdown)\n",
    "            wd.execute_script(\"arguments[0].click();\", dropdown)\n",
    "            \n",
    "            # dropdown.click()\n",
    "            \n",
    "            time.sleep(3)\n",
    "        \n",
    "            \n",
    "            question_element = wd.find_element(By.XPATH, f'//*[@id=\"app\"]/div[3]/section/div[2]/div/div[2]/section/div/div[3]/div[1]/div[{i}]/button/div/span[2]')\n",
    "            title = question_element.text.strip()\n",
    "            element = wd.find_element(By.CSS_SELECTOR,'div.conts')\n",
    "            content = element.text.strip()\n",
    "            result.append([title, content])\n",
    "        except Exception as e:\n",
    "            print(f'{button} 의 {i} 번째 오류')"
   ]
  },
  {
   "cell_type": "code",
   "execution_count": 110,
   "id": "fcaae0c4-fdcb-4722-b6f6-0c5e76500c5f",
   "metadata": {},
   "outputs": [],
   "source": [
    "# 저장 하기\n",
    "\n",
    "df = pd.DataFrame(result,columns=['질문','답변'])\n",
    "df['브랜드명'] = '현대'\n",
    "df = df[['브랜드명', '질문','답변']]\n",
    "df\n",
    "\n",
    "df.to_csv('현대FAQ.csv', index=False, encoding='utf-8')  # UTF-8로 인코딩"
   ]
  },
  {
   "cell_type": "markdown",
   "id": "23fa5900",
   "metadata": {},
   "source": [
    "### 2. 기아"
   ]
  },
  {
   "cell_type": "code",
   "execution_count": 6,
   "id": "521ee336",
   "metadata": {},
   "outputs": [],
   "source": [
    "url = 'https://www.kia.com/kr/customer-service/center/faq'\n",
    "\n",
    "# 브라우저 열기\n",
    "wd = webdriver.Chrome()\n",
    "\n",
    "# 웹페이지 열기\n",
    "wd.get(url) \n",
    "wd.find_element(By.XPATH, \"//span[text()='전체']\").click()\n",
    "time.sleep(10)\n"
   ]
  },
  {
   "cell_type": "code",
   "execution_count": 7,
   "id": "8cad4f49",
   "metadata": {},
   "outputs": [],
   "source": [
    "# FAQ 제목 및 내용 추출\n",
    "result = []    \n",
    "for i in range(4):\n",
    "    for j in range(1, 6):\n",
    "\n",
    "        html = wd.page_source \n",
    "        soup = BeautifulSoup(html, 'html.parser') \n",
    "        faq_items = soup.find_all(\"div\", class_=\"cmp-accordion__item\")\n",
    "        \n",
    "        for item in faq_items:  # faqitems -> faq_items 로 수정\n",
    "            title = item.find(\"span\", class_=\"cmp-accordion__title\").text.strip()\n",
    "            content = item.find(\"div\", class_=\"faqinner__wrap\").text.strip()\n",
    "            result.append((title, content))\n",
    "        if j != 5:  \n",
    "            dropdown = wd.find_element(By.XPATH,f'//*[@id=\"contents\"]/div/div[3]/div/div/div[4]/div/ul/li[{j+1}]/a')\n",
    "            dropdown.click()\n",
    "            time.sleep(3)\n",
    "    if i == 0 :\n",
    "        dropdown = wd.find_element(By.XPATH,f'//*[@id=\"contents\"]/div/div[3]/div/div/div[4]/div/button')\n",
    "    else:\n",
    "        dropdown = wd.find_element(By.XPATH,f'//*[@id=\"contents\"]/div/div[3]/div/div/div[4]/div/button[2]')\n",
    "    dropdown.click()\n",
    "    time.sleep(1)\n",
    "    \n",
    "df = pd.DataFrame(result)\n",
    "# DataFrame을 CSV 파일로 저장\n",
    "df.to_csv('kia_service_centers.csv', index=False, encoding='utf-8-sig')  # UTF-8로 인코딩\n",
    "\n",
    "# 브라우저 닫기\n",
    "# driver.quit()"
   ]
  },
  {
   "cell_type": "markdown",
   "id": "7c72c818",
   "metadata": {},
   "source": [
    "### 3. KGM"
   ]
  },
  {
   "cell_type": "code",
   "execution_count": 8,
   "id": "a03487c1",
   "metadata": {},
   "outputs": [],
   "source": [
    "url = 'https://www.kg-mobility.com/kr/service/manage/faq/index.html'\n",
    "import time\n",
    "# 브라우저 열기\n",
    "driver = webdriver.Chrome()\n",
    "driver.get(url) \n",
    "\n",
    "\n",
    "result = []\n",
    "\n",
    "html = driver.page_source\n",
    "soup = BeautifulSoup(html, 'html.parser')\n",
    "faq_all = soup.select(\"#faq-list\")\n",
    "faq_items = faq_all[0].find_all(\"li\")\n",
    "\n",
    "for i in range(0,50,5):\n",
    "    cat = faq_items[i+2].text.strip()\n",
    "    title = faq_items[i+3].text.strip()\n",
    "    content = faq_items[i+4].text.strip()\n",
    "    result.append([cat, title, content])\n",
    "\n",
    "driver.find_element(By.CSS_SELECTOR, \"#pagination > a:nth-child(4)\").click()\n",
    "\n",
    "html = driver.page_source\n",
    "soup = BeautifulSoup(html, 'html.parser')\n",
    "faq_all = soup.select(\"#faq-list\")\n",
    "faq_items = faq_all[0].find_all(\"li\")\n",
    "\n",
    "\n",
    "for i in range(0,20,5):\n",
    "    cat = faq_items[i+2].text.strip()\n",
    "    title = faq_items[i+3].text.strip()\n",
    "    content = faq_items[i+4].text.strip()\n",
    "    result.append([cat, title, content])\n",
    "\n",
    "df = pd.DataFrame(result,columns=['구분','질문','답변'])\n",
    "df['브랜드명'] = 'KGM'\n",
    "df = df[['브랜드명', '구분', '질문','답변']]\n",
    "\n",
    "df.to_csv('kgm_faq.csv', index=False, encoding='utf-8')  # UTF-8로 인코딩"
   ]
  },
  {
   "cell_type": "markdown",
   "id": "773c2b7f",
   "metadata": {},
   "source": [
    "### 4. 쉐보레"
   ]
  },
  {
   "cell_type": "code",
   "execution_count": 10,
   "id": "75371dcf",
   "metadata": {},
   "outputs": [],
   "source": [
    "urls = ['https://www.chevrolet.co.kr/faq/purchasing-related', \n",
    "       'https://www.chevrolet.co.kr/faq/product-maintenance', \n",
    "       'https://www.chevrolet.co.kr/faq/autocard',\n",
    "       'https://www.chevrolet.co.kr/faq/website',\n",
    "       'https://www.chevrolet.co.kr/faq/disabled-vehicles',\n",
    "       'https://www.chevrolet.co.kr/faq/mylink',\n",
    "       'https://www.chevrolet.co.kr/faq/navigation',\n",
    "       'https://www.chevrolet.co.kr/faq/android-auto-apple-carplay',\n",
    "       'https://www.chevrolet.co.kr/faq/online-shop',\n",
    "       'https://www.chevrolet.co.kr/faq/ev-recall']\n",
    "\n",
    "driver = webdriver.Chrome()\n",
    "\n",
    "result = []\n",
    "\n",
    "for url in urls:\n",
    "    driver.get(url)\n",
    "    time.sleep(1)\n",
    "\n",
    "    html = driver.page_source\n",
    "    soup = BeautifulSoup(html, 'html.parser')\n",
    "    que_list = soup.select('#q-main-content > adv-grid.large-margin > adv-col > div')\n",
    "    \n",
    "    queclass = 'q-mod q-mod-expander q-expander q-expander-default q-closed-xs q-closed-sm q-closed-med q-closed-lg q-closed-xl'\n",
    "    for item in que_list[0].find_all(\"div\", class_=queclass):\n",
    "        cat=item.find('h6').text.strip().replace(\"[\",\"\").split(']')[0]\n",
    "        title = item.find('h6').text.strip().replace(\"[\",\"\").split(']')[1]\n",
    "        content = item.find('div',class_='q-text q-body1 q-invert').text.strip()\n",
    "        result.append([cat, title, content])\n",
    "\n",
    "\n",
    "df = pd.DataFrame(result,columns=['구분','질문','답변'])\n",
    "df['브랜드명'] = '쉐보레'\n",
    "df = df[['브랜드명', '구분', '질문','답변']]\n",
    "\n",
    "df.to_csv('chb_faq.csv', index=False, encoding='utf-8')  # UTF-8로 인코딩"
   ]
  },
  {
   "cell_type": "markdown",
   "id": "efe6b32c",
   "metadata": {},
   "source": [
    "### 벤츠"
   ]
  },
  {
   "cell_type": "code",
   "execution_count": null,
   "id": "968a692e",
   "metadata": {},
   "outputs": [],
   "source": [
    "url = 'https://www.mercedes-benz.co.kr/passengercars/cars-guide/emh-faq.html'\n",
    "\n",
    "driver = webdriver.Chrome()\n",
    "driver.get(url)\n",
    "time.sleep(5)\n",
    "# soup.find_element(By.CSS_SELECTOR,'button').click() # 전체동의.. 그냥 눌러서 진행 부탁드립니다."
   ]
  },
  {
   "cell_type": "code",
   "execution_count": null,
   "id": "f5be9028",
   "metadata": {},
   "outputs": [],
   "source": [
    "# BeautifulSoup으로 HTML 파싱\n",
    "soup = BeautifulSoup(html, 'html.parser')\n",
    "\n",
    "# 1. 모든 <script> 태그 추출\n",
    "scripts = soup.find_all('script')\n",
    "\n",
    "# 2. 질문(Q)과 답변(A)를 각각 정규 표현식으로 추출\n",
    "questions = []\n",
    "answers = []\n",
    "\n",
    "for script in scripts:\n",
    "    script_content = script.string\n",
    "    if script_content:\n",
    "        # Q 부분 (headline) 찾기\n",
    "        q_matches = re.findall(r'\"headline\":\"(Q\\..+?)\"', script_content)\n",
    "        if q_matches:\n",
    "            questions.extend(q_matches)\n",
    "        \n",
    "        # A 부분 (description) 찾기\n",
    "        a_matches = re.findall(r'\"description\":\"<p>(A\\..+?)<br>', script_content)\n",
    "        if a_matches:\n",
    "            answers.extend(a_matches)\n",
    "\n",
    "# 중복된 Q 제거 (순서를 유지하면서 중복 제거)\n",
    "unique_questions = list(dict.fromkeys(questions))\n",
    "\n",
    "# Q와 A를 매칭하여 리스트에 저장\n",
    "qa_pairs = list(zip(unique_questions, answers))\n",
    "\n",
    "# Q와 A에서 \"Q. \", \"A. \" 제거\n",
    "qa_pairs_cleaned = [(q.replace(\"Q. \", \"\"), a.replace(\"A. \", \"\")) for q, a in qa_pairs]\n",
    "\n",
    "df = pd.DataFrame(qa_pairs_cleaned,columns=['질문','답변'])\n",
    "df['브랜드명'] = '벤츠'\n",
    "df = df[['브랜드명', '질문','답변']]\n",
    "df"
   ]
  },
  {
   "cell_type": "markdown",
   "id": "72cc31e5",
   "metadata": {},
   "source": [
    "### BMW"
   ]
  },
  {
   "cell_type": "code",
   "execution_count": 12,
   "id": "5d01e746",
   "metadata": {},
   "outputs": [],
   "source": [
    "url = 'https://www.bmw.co.kr/ko/services/bmw-connected-drive/2022/conncecteddrive-faq.html'\n",
    "\n",
    "driver = webdriver.Chrome()\n",
    "driver.get(url)\n",
    "\n",
    "html = driver.page_source\n",
    "soup = BeautifulSoup(html, 'html.parser')\n",
    "\n",
    "result = []\n",
    "\n",
    "# 항목별 FAQ\n",
    "all_lists = soup.find_all('div',class_='ds2-accordion--element')\n",
    "\n",
    "for list in all_lists:\n",
    "    questions = list.find_all('h5')\n",
    "    answers = list.find_all('p')\n",
    "    \n",
    "    for i in range(min(len(questions), len(answers))):\n",
    "        question = questions[i].text.strip()\n",
    "        answer = answers[i].text.strip()\n",
    "        result.append([question, answer])\n",
    "\n",
    "\n",
    "df = pd.DataFrame(result,columns=['질문','답변'])\n",
    "df['브랜드명'] = 'BMW'\n",
    "df = df[['브랜드명', '질문','답변']]"
   ]
  },
  {
   "cell_type": "markdown",
   "id": "2aee6153",
   "metadata": {},
   "source": [
    "### 폭스바겐"
   ]
  },
  {
   "cell_type": "code",
   "execution_count": 13,
   "id": "b9391676",
   "metadata": {},
   "outputs": [],
   "source": [
    "url = 'https://www.volkswagen.co.kr/ko/faq.html'\n",
    "\n",
    "# 브라우저 열기\n",
    "wd = webdriver.Chrome()\n",
    "\n",
    "# 웹페이지 열기\n",
    "wd.get(url) \n",
    "html = wd.page_source  # 페이지 정보를 가지고 있음  html정보\n",
    "soup = BeautifulSoup(html, 'html.parser') # html 정보를 파싱"
   ]
  },
  {
   "cell_type": "code",
   "execution_count": 15,
   "id": "c930e3f0",
   "metadata": {},
   "outputs": [],
   "source": [
    "faq_items = soup.find_all(\"div\", class_=\"StyledAccordion-sc-1b6176y gzKtTY\")\n",
    "list = []\n",
    "for item in faq_items:\n",
    "    title = item.find(\"h3\", class_='StyledTextComponent-sc-hqqa9q SdBwM').text.strip()\n",
    "    content = item.find(\"div\", class_='StyledTextComponent-sc-hqqa9q doFskv').text.strip()\n",
    "    result.append((title, content))\n",
    "## accordionitem_head > div > div > div > h3 > span > b\n",
    "    #accordionitem_body > div > div > div > span > p\n",
    "\n",
    "df = pd.DataFrame(result)\n",
    "# DataFrame을 CSV 파일로 저장\n",
    "df.to_csv('volkswagen.csv', index=False, encoding='utf-8-sig')  # UTF-8로 인코딩"
   ]
  },
  {
   "cell_type": "code",
   "execution_count": null,
   "id": "b7351823",
   "metadata": {},
   "outputs": [],
   "source": []
  }
 ],
 "metadata": {
  "kernelspec": {
   "display_name": "Python 3 (ipykernel)",
   "language": "python",
   "name": "python3"
  },
  "language_info": {
   "codemirror_mode": {
    "name": "ipython",
    "version": 3
   },
   "file_extension": ".py",
   "mimetype": "text/x-python",
   "name": "python",
   "nbconvert_exporter": "python",
   "pygments_lexer": "ipython3",
   "version": "3.12.4"
  }
 },
 "nbformat": 4,
 "nbformat_minor": 5
}
